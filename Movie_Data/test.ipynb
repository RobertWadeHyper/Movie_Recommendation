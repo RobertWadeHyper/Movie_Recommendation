{
 "cells": [
  {
   "cell_type": "code",
   "execution_count": 1,
   "metadata": {},
   "outputs": [],
   "source": [
    "#Data imports\n",
    "\n",
    "import pandas as pd\n",
    "\n",
    "import numpy as np\n",
    "\n",
    "#Visualization imports\n",
    "\n",
    "import matplotlib.pyplot as plt\n",
    "\n",
    "import seaborn as sns\n",
    "\n",
    "import glob\n",
    "\n",
    "%matplotlib inline"
   ]
  },
  {
   "cell_type": "code",
   "execution_count": 2,
   "metadata": {},
   "outputs": [
    {
     "name": "stdout",
     "output_type": "stream",
     "text": [
      "    movie_id                         movie_name  year certificate  runtime  \\\n",
      "0  tt9114286     Black Panther: Wakanda Forever  2022       PG-13  161 min   \n",
      "1  tt1630029           Avatar: The Way of Water  2022       PG-13  192 min   \n",
      "2  tt5884796                              Plane  2023           R  107 min   \n",
      "3  tt6710474  Everything Everywhere All at Once  2022           R  139 min   \n",
      "4  tt5433140                             Fast X  2023         NaN      NaN   \n",
      "\n",
      "                        genre  rating  \\\n",
      "0    Action, Adventure, Drama     6.9   \n",
      "1  Action, Adventure, Fantasy     7.8   \n",
      "2            Action, Thriller     6.5   \n",
      "3   Action, Adventure, Comedy     8.0   \n",
      "4      Action, Crime, Mystery     NaN   \n",
      "\n",
      "                                         description  \\\n",
      "0  The people of Wakanda fight to protect their h...   \n",
      "1  Jake Sully lives with his newfound family form...   \n",
      "2  A pilot finds himself caught in a war zone aft...   \n",
      "3  A middle-aged Chinese immigrant is swept up in...   \n",
      "4  Dom Toretto and his family are targeted by the...   \n",
      "\n",
      "                       director       director_id  \\\n",
      "0                  Ryan Coogler  /name/nm3363032/   \n",
      "1                 James Cameron  /name/nm0000116/   \n",
      "2          Jean-François Richet  /name/nm0724938/   \n",
      "3  Dan Kwan, \\nDaniel Scheinert  /name/nm3453283/   \n",
      "4               Louis Leterrier  /name/nm0504642/   \n",
      "\n",
      "                                                star  \\\n",
      "0  Letitia Wright, \\nLupita Nyong'o, \\nDanai Guri...   \n",
      "1  Sam Worthington, \\nZoe Saldana, \\nSigourney We...   \n",
      "2  Gerard Butler, \\nMike Colter, \\nTony Goldwyn, ...   \n",
      "3  Michelle Yeoh, \\nStephanie Hsu, \\nJamie Lee Cu...   \n",
      "4  Vin Diesel, \\nJordana Brewster, \\nTyrese Gibso...   \n",
      "\n",
      "                                             star_id     votes  gross(in $)  \n",
      "0  /name/nm4004793/,/name/nm2143282/,/name/nm1775...  204835.0          NaN  \n",
      "1  /name/nm0941777/,/name/nm0757855/,/name/nm0000...  295119.0          NaN  \n",
      "2  /name/nm0124930/,/name/nm1591496/,/name/nm0001...   26220.0          NaN  \n",
      "3  /name/nm3215397/,/name/nm0000706/,/name/nm3513...  327858.0          NaN  \n",
      "4  /name/nm0004874/,/name/nm0108287/,/name/nm0879...       NaN          NaN  \n"
     ]
    }
   ],
   "source": [
    "df = pd.read_csv('action.csv')\n",
    "print(df.head())"
   ]
  },
  {
   "cell_type": "code",
   "execution_count": 3,
   "metadata": {},
   "outputs": [],
   "source": [
    "#Combining CSV Files into a Single DataFrame\n",
    "\n",
    "files = glob.glob('*.csv')\n",
    "\n",
    "# Initialize an empty DataFrame to hold the combined data\n",
    "combined_df = pd.DataFrame()\n",
    "\n",
    "for filename in files:\n",
    "    df = pd.read_csv(filename)\n",
    "    combined_df = pd.concat([combined_df, df], ignore_index=True)"
   ]
  },
  {
   "cell_type": "code",
   "execution_count": 4,
   "metadata": {},
   "outputs": [
    {
     "name": "stdout",
     "output_type": "stream",
     "text": [
      "    movie_id                         movie_name  year certificate  runtime  \\\n",
      "0  tt9114286     Black Panther: Wakanda Forever  2022       PG-13  161 min   \n",
      "1  tt1630029           Avatar: The Way of Water  2022       PG-13  192 min   \n",
      "2  tt5884796                              Plane  2023           R  107 min   \n",
      "3  tt6710474  Everything Everywhere All at Once  2022           R  139 min   \n",
      "4  tt5433140                             Fast X  2023         NaN      NaN   \n",
      "\n",
      "                        genre  rating  \\\n",
      "0    Action, Adventure, Drama     6.9   \n",
      "1  Action, Adventure, Fantasy     7.8   \n",
      "2            Action, Thriller     6.5   \n",
      "3   Action, Adventure, Comedy     8.0   \n",
      "4      Action, Crime, Mystery     NaN   \n",
      "\n",
      "                                         description  \\\n",
      "0  The people of Wakanda fight to protect their h...   \n",
      "1  Jake Sully lives with his newfound family form...   \n",
      "2  A pilot finds himself caught in a war zone aft...   \n",
      "3  A middle-aged Chinese immigrant is swept up in...   \n",
      "4  Dom Toretto and his family are targeted by the...   \n",
      "\n",
      "                       director       director_id  \\\n",
      "0                  Ryan Coogler  /name/nm3363032/   \n",
      "1                 James Cameron  /name/nm0000116/   \n",
      "2          Jean-François Richet  /name/nm0724938/   \n",
      "3  Dan Kwan, \\nDaniel Scheinert  /name/nm3453283/   \n",
      "4               Louis Leterrier  /name/nm0504642/   \n",
      "\n",
      "                                                star  \\\n",
      "0  Letitia Wright, \\nLupita Nyong'o, \\nDanai Guri...   \n",
      "1  Sam Worthington, \\nZoe Saldana, \\nSigourney We...   \n",
      "2  Gerard Butler, \\nMike Colter, \\nTony Goldwyn, ...   \n",
      "3  Michelle Yeoh, \\nStephanie Hsu, \\nJamie Lee Cu...   \n",
      "4  Vin Diesel, \\nJordana Brewster, \\nTyrese Gibso...   \n",
      "\n",
      "                                             star_id     votes  gross(in $)  \n",
      "0  /name/nm4004793/,/name/nm2143282/,/name/nm1775...  204835.0          NaN  \n",
      "1  /name/nm0941777/,/name/nm0757855/,/name/nm0000...  295119.0          NaN  \n",
      "2  /name/nm0124930/,/name/nm1591496/,/name/nm0001...   26220.0          NaN  \n",
      "3  /name/nm3215397/,/name/nm0000706/,/name/nm3513...  327858.0          NaN  \n",
      "4  /name/nm0004874/,/name/nm0108287/,/name/nm0879...       NaN          NaN  \n"
     ]
    }
   ],
   "source": [
    "print(combined_df.head(5))"
   ]
  },
  {
   "cell_type": "code",
   "execution_count": 5,
   "metadata": {},
   "outputs": [],
   "source": [
    "import warnings as wr\n",
    "wr.filterwarnings('ignore')"
   ]
  },
  {
   "cell_type": "code",
   "execution_count": 6,
   "metadata": {},
   "outputs": [
    {
     "name": "stdout",
     "output_type": "stream",
     "text": [
      "<class 'pandas.core.frame.DataFrame'>\n",
      "RangeIndex: 368300 entries, 0 to 368299\n",
      "Data columns (total 14 columns):\n",
      " #   Column       Non-Null Count   Dtype  \n",
      "---  ------       --------------   -----  \n",
      " 0   movie_id     368300 non-null  object \n",
      " 1   movie_name   368296 non-null  object \n",
      " 2   year         315052 non-null  object \n",
      " 3   certificate  104191 non-null  object \n",
      " 4   runtime      259146 non-null  object \n",
      " 5   genre        368300 non-null  object \n",
      " 6   rating       230938 non-null  float64\n",
      " 7   description  368300 non-null  object \n",
      " 8   director     340931 non-null  object \n",
      " 9   director_id  340931 non-null  object \n",
      " 10  star         309605 non-null  object \n",
      " 11  star_id      316442 non-null  object \n",
      " 12  votes        230942 non-null  float64\n",
      " 13  gross(in $)  25039 non-null   float64\n",
      "dtypes: float64(3), object(11)\n",
      "memory usage: 39.3+ MB\n"
     ]
    }
   ],
   "source": [
    "#data information \n",
    "combined_df.info()"
   ]
  },
  {
   "cell_type": "code",
   "execution_count": 7,
   "metadata": {},
   "outputs": [
    {
     "data": {
      "text/plain": [
       "(368300, 14)"
      ]
     },
     "execution_count": 7,
     "metadata": {},
     "output_type": "execute_result"
    }
   ],
   "source": [
    "# shape of the data\n",
    "combined_df.shape"
   ]
  },
  {
   "cell_type": "code",
   "execution_count": 8,
   "metadata": {},
   "outputs": [],
   "source": [
    "combined_df.drop(['certificate', 'gross(in $)'], axis=1, inplace=True)\n",
    "#to remove columns with mostly null data\n"
   ]
  },
  {
   "cell_type": "code",
   "execution_count": 9,
   "metadata": {},
   "outputs": [],
   "source": [
    "#Removing movies with null running times\n",
    "combined_df.dropna(subset=['runtime'], inplace=True)"
   ]
  },
  {
   "cell_type": "code",
   "execution_count": 10,
   "metadata": {},
   "outputs": [
    {
     "name": "stdout",
     "output_type": "stream",
     "text": [
      "<bound method NDFrame.head of           movie_id                         movie_name  year  runtime  \\\n",
      "0        tt9114286     Black Panther: Wakanda Forever  2022  161 min   \n",
      "1        tt1630029           Avatar: The Way of Water  2022  192 min   \n",
      "2        tt5884796                              Plane  2023  107 min   \n",
      "3        tt6710474  Everything Everywhere All at Once  2022  139 min   \n",
      "5       tt10954600  Ant-Man and the Wasp: Quantumania  2023  125 min   \n",
      "...            ...                                ...   ...      ...   \n",
      "368286  tt10674742                         Shutsugeki  1964  100 min   \n",
      "368287   tt0289562              Ton kairo ton Ellinon  1981   98 min   \n",
      "368289   tt0257609         Together in Life and Death  1964   96 min   \n",
      "368291   tt0009655                      Stolen Orders  1918   80 min   \n",
      "368299  tt26733697   Spion 11: Operasjon Traelandsfos  2001   75 min   \n",
      "\n",
      "                             genre  rating  \\\n",
      "0         Action, Adventure, Drama     6.9   \n",
      "1       Action, Adventure, Fantasy     7.8   \n",
      "2                 Action, Thriller     6.5   \n",
      "3        Action, Adventure, Comedy     8.0   \n",
      "5        Action, Adventure, Comedy     6.6   \n",
      "...                            ...     ...   \n",
      "368286                         War     NaN   \n",
      "368287       Adventure, Drama, War     6.3   \n",
      "368289         Drama, Romance, War     4.1   \n",
      "368291                  War, Drama     4.6   \n",
      "368299                 Comedy, War     NaN   \n",
      "\n",
      "                                              description  \\\n",
      "0       The people of Wakanda fight to protect their h...   \n",
      "1       Jake Sully lives with his newfound family form...   \n",
      "2       A pilot finds himself caught in a war zone aft...   \n",
      "3       A middle-aged Chinese immigrant is swept up in...   \n",
      "5       Scott Lang and Hope Van Dyne, along with Hank ...   \n",
      "...                                                   ...   \n",
      "368286                                         Add a Plot   \n",
      "368287  At the turn of the century (1900) a young merc...   \n",
      "368289  Inspired by Spyridon Peresiadis' play \"Esme, t...   \n",
      "368291  A renegade American and his innocent daughter ...   \n",
      "368299                                         Add a Plot   \n",
      "\n",
      "                                                director        director_id  \\\n",
      "0                                           Ryan Coogler   /name/nm3363032/   \n",
      "1                                          James Cameron   /name/nm0000116/   \n",
      "2                                   Jean-François Richet   /name/nm0724938/   \n",
      "3                           Dan Kwan, \\nDaniel Scheinert   /name/nm3453283/   \n",
      "5                                            Peyton Reed   /name/nm0715636/   \n",
      "...                                                  ...                ...   \n",
      "368286                                   Eisuke Takizawa   /name/nm0847695/   \n",
      "368287                                 Lakis Papastathis   /name/nm0660341/   \n",
      "368289                                    Ilias Mahairas   /name/nm0536892/   \n",
      "368291                    George Kelson, \\nHarley Knoles   /name/nm0447094/   \n",
      "368299  Stein Vidar Aamodt, \\nOve Olsen, \\nJarle Solberg  /name/nm14562635/   \n",
      "\n",
      "                                                     star  \\\n",
      "0       Letitia Wright, \\nLupita Nyong'o, \\nDanai Guri...   \n",
      "1       Sam Worthington, \\nZoe Saldana, \\nSigourney We...   \n",
      "2       Gerard Butler, \\nMike Colter, \\nTony Goldwyn, ...   \n",
      "3       Michelle Yeoh, \\nStephanie Hsu, \\nJamie Lee Cu...   \n",
      "5       Paul Rudd, \\nEvangeline Lilly, \\nJonathan Majo...   \n",
      "...                                                   ...   \n",
      "368286  Takao Ito, \\nDaisaburô Hirata, \\nShinji Kanai,...   \n",
      "368287  Alexis Damianos, \\nKostas Arzoglou, \\nYorgos S...   \n",
      "368289  Manos Katrakis, \\nMarlen Papoulia, \\nAndreas B...   \n",
      "368291  Montagu Love, \\nKitty Gordon, \\nJune Elvidge, ...   \n",
      "368299  Andreas Hansen, \\nTom Galdal, \\nJarle Solberg,...   \n",
      "\n",
      "                                                  star_id     votes  \n",
      "0       /name/nm4004793/,/name/nm2143282/,/name/nm1775...  204835.0  \n",
      "1       /name/nm0941777/,/name/nm0757855/,/name/nm0000...  295119.0  \n",
      "2       /name/nm0124930/,/name/nm1591496/,/name/nm0001...   26220.0  \n",
      "3       /name/nm3215397/,/name/nm0000706/,/name/nm3513...  327858.0  \n",
      "5       /name/nm0748620/,/name/nm1431940/,/name/nm3718...    5396.0  \n",
      "...                                                   ...       ...  \n",
      "368286  /name/nm0411750/,/name/nm0386285/,/name/nm0437...       NaN  \n",
      "368287  /name/nm0198800/,/name/nm0038202/,/name/nm0759...      51.0  \n",
      "368289  /name/nm0441463/,/name/nm1099229/,/name/nm0055...      11.0  \n",
      "368291  /name/nm0461295/,/name/nm0002311/,/name/nm0330...      15.0  \n",
      "368299  /name/nm14562634/,/name/nm14562633/,/name/nm14...       NaN  \n",
      "\n",
      "[259146 rows x 12 columns]>\n"
     ]
    }
   ],
   "source": [
    "print(combined_df.head)"
   ]
  },
  {
   "cell_type": "code",
   "execution_count": 11,
   "metadata": {},
   "outputs": [],
   "source": [
    "#Removing 'min' from runtime column in order to convert it to int format\n",
    "combined_df['runtime'] = combined_df['runtime'].str.replace(r'\\D', '', regex=True).astype(int)"
   ]
  },
  {
   "cell_type": "code",
   "execution_count": 12,
   "metadata": {},
   "outputs": [],
   "source": [
    "# Keep only the rows where 'runtime' is between 80 and 300 (inclusive)\n",
    "combined_df = combined_df[(combined_df['runtime'] >= 80) & (combined_df['runtime'] <= 300)]"
   ]
  },
  {
   "cell_type": "code",
   "execution_count": 13,
   "metadata": {},
   "outputs": [
    {
     "name": "stdout",
     "output_type": "stream",
     "text": [
      "[ 80  81  82  83  84  85  86  87  88  89  90  91  92  93  94  95  96  97\n",
      "  98  99 100 101 102 103 104 105 106 107 108 109 110 111 112 113 114 115\n",
      " 116 117 118 119 120 121 122 123 124 125 126 127 128 129 130 131 132 133\n",
      " 134 135 136 137 138 139 140 141 142 143 144 145 146 147 148 149 150 151\n",
      " 152 153 154 155 156 157 158 159 160 161 162 163 164 165 166 167 168 169\n",
      " 170 171 172 173 174 175 176 177 178 179 180 181 182 183 184 185 186 187\n",
      " 188 189 190 191 192 193 194 195 196 197 198 199 200 201 202 203 204 205\n",
      " 206 207 208 209 210 211 212 213 214 215 216 217 218 219 220 221 222 223\n",
      " 224 225 226 227 228 229 230 231 232 233 234 235 236 237 238 240 241 242\n",
      " 243 244 245 246 247 248 250 252 253 254 255 256 257 258 259 260 262 263\n",
      " 264 265 266 267 268 269 270 271 272 273 275 278 279 280 281 282 284 285\n",
      " 287 288 289 290 293 294 295 299 300]\n"
     ]
    }
   ],
   "source": [
    "# Get and sort unique values in the 'runtime' column\n",
    "sorted_unique_runtimes = np.sort(combined_df['runtime'].unique())\n",
    "\n",
    "# Print the sorted unique values to ensure they are between 80 and 300\n",
    "print(sorted_unique_runtimes)"
   ]
  },
  {
   "cell_type": "code",
   "execution_count": 14,
   "metadata": {},
   "outputs": [
    {
     "name": "stdout",
     "output_type": "stream",
     "text": [
      "Duplicate movie_ids and their counts:\n",
      "movie_id\n",
      "tt1800393     10\n",
      "tt3643390      9\n",
      "tt2768084      9\n",
      "tt10091688     9\n",
      "tt4542726      9\n",
      "              ..\n",
      "tt13465228     2\n",
      "tt0292957      2\n",
      "tt4165204      2\n",
      "tt0068482      2\n",
      "tt0105183      2\n",
      "Name: count, Length: 53084, dtype: int64\n",
      "\n",
      "Total number of duplicate rows: 134333\n"
     ]
    }
   ],
   "source": [
    "#Remove duplicate entries e.g. RoboCop listed in both crime and sci-fi etc\n",
    "# Count occurrences of each movie_id\n",
    "movie_id_counts = combined_df['movie_id'].value_counts()\n",
    "\n",
    "# Filter to get only those movie_ids with more than 1 occurrence (duplicates)\n",
    "duplicates = movie_id_counts[movie_id_counts > 1]\n",
    "\n",
    "# Total number of duplicate entries\n",
    "total_duplicate_rows = combined_df[combined_df['movie_id'].duplicated(keep=False)]\n",
    "\n",
    "# Display results\n",
    "print(\"Duplicate movie_ids and their counts:\")\n",
    "print(duplicates)\n",
    "print(\"\\nTotal number of duplicate rows:\", len(total_duplicate_rows))"
   ]
  },
  {
   "cell_type": "code",
   "execution_count": 15,
   "metadata": {},
   "outputs": [],
   "source": [
    "# Remove duplicate rows based on 'movie_id', keeping the first occurrence\n",
    "combined_df = combined_df.drop_duplicates(subset='movie_id', keep='first')"
   ]
  },
  {
   "cell_type": "code",
   "execution_count": 16,
   "metadata": {},
   "outputs": [
    {
     "name": "stdout",
     "output_type": "stream",
     "text": [
      "Empty DataFrame\n",
      "Columns: [movie_id, movie_name, year, runtime, genre, rating, description, director, director_id, star, star_id, votes]\n",
      "Index: []\n"
     ]
    }
   ],
   "source": [
    "# Define the movie name you want to filter by\n",
    "movie_name_to_filter = \"robocop\"\n",
    "\n",
    "# Filter the DataFrame for rows where 'movie_name' matches the specified entry\n",
    "filtered_df = combined_df[combined_df['movie_name'] == movie_name_to_filter]\n",
    "\n",
    "# Display the filtered DataFrame\n",
    "print(filtered_df)\n",
    "\n",
    "#this resulted in empty dataframe due to case sensitivity at first"
   ]
  },
  {
   "cell_type": "code",
   "execution_count": 17,
   "metadata": {},
   "outputs": [],
   "source": [
    "# Convert all string entries in the DataFrame to lowercase\n",
    "combined_df = combined_df.applymap(lambda x: x.lower() if isinstance(x, str) else x)"
   ]
  },
  {
   "cell_type": "code",
   "execution_count": 18,
   "metadata": {},
   "outputs": [
    {
     "name": "stdout",
     "output_type": "stream",
     "text": [
      "      movie_id movie_name  year  runtime                  genre  rating  \\\n",
      "171  tt0093870    robocop  1987      102  action, crime, sci-fi     7.6   \n",
      "874  tt1234721    robocop  2014      117  action, crime, sci-fi     6.1   \n",
      "\n",
      "                                           description        director  \\\n",
      "171  in a dystopic and crime-ridden detroit, a term...  paul verhoeven   \n",
      "874  in 2028 detroit, when alex murphy, a loving hu...    josé padilha   \n",
      "\n",
      "          director_id                                               star  \\\n",
      "171  /name/nm0000682/  peter weller, \\nnancy allen, \\ndan o'herlihy, ...   \n",
      "874  /name/nm0655683/  joel kinnaman, \\ngary oldman, \\nmichael keaton...   \n",
      "\n",
      "                                               star_id     votes  \n",
      "171  /name/nm0000693/,/name/nm0000262/,/name/nm0641...  263559.0  \n",
      "874  /name/nm1172478/,/name/nm0000198/,/name/nm0000...  231451.0  \n"
     ]
    }
   ],
   "source": [
    "print(combined_df[combined_df['movie_name'] == 'robocop'])"
   ]
  },
  {
   "cell_type": "code",
   "execution_count": 19,
   "metadata": {},
   "outputs": [
    {
     "name": "stdout",
     "output_type": "stream",
     "text": [
      "movie_id           0\n",
      "movie_name         1\n",
      "year            2099\n",
      "runtime            0\n",
      "genre              0\n",
      "rating         20721\n",
      "description        0\n",
      "director        1165\n",
      "director_id     1165\n",
      "star            3722\n",
      "star_id         2863\n",
      "votes          20720\n",
      "dtype: int64\n"
     ]
    }
   ],
   "source": [
    "#checking which columns still have null/zero entries and if further filtering is required\n",
    "print(combined_df.isnull().sum())\n",
    "\n",
    "# A single missing entry for movie_name and 2000 missing entries for year is concerning"
   ]
  },
  {
   "cell_type": "code",
   "execution_count": 20,
   "metadata": {},
   "outputs": [
    {
     "name": "stdout",
     "output_type": "stream",
     "text": [
      "          movie_id movie_name  year  runtime     genre  rating  \\\n",
      "354393  tt17042812        NaN  2010       87  thriller     NaN   \n",
      "\n",
      "                                              description          director  \\\n",
      "354393  a survival game show on the web, abandons cont...  christopher fink   \n",
      "\n",
      "             director_id                                               star  \\\n",
      "354393  /name/nm0002714/  linda alcazar, \\nandre johnson, \\nbonnie mcbri...   \n",
      "\n",
      "                                                  star_id  votes  \n",
      "354393  /name/nm1785036/,/name/nm13299177/,/name/nm132...    NaN  \n"
     ]
    }
   ],
   "source": [
    "# Filter the DataFrame to show rows where 'movie_name' is missing\n",
    "missing_movie_name_rows = combined_df[combined_df['movie_name'].isna()]\n",
    "\n",
    "# Display the rows with missing 'movie_name'\n",
    "print(missing_movie_name_rows)\n",
    "\n",
    "#After checking online, this movie's title is \"none\""
   ]
  },
  {
   "cell_type": "code",
   "execution_count": 21,
   "metadata": {},
   "outputs": [],
   "source": [
    "# Replace missing or blank 'movie_name' with the actual title 'none'\n",
    "combined_df.loc[combined_df['movie_name'].isna() | (combined_df['movie_name'] == ''), 'movie_name'] = 'none'"
   ]
  },
  {
   "cell_type": "code",
   "execution_count": 22,
   "metadata": {},
   "outputs": [
    {
     "name": "stdout",
     "output_type": "stream",
     "text": [
      "          movie_id movie_name  year  runtime     genre  rating  \\\n",
      "354393  tt17042812       none  2010       87  thriller     NaN   \n",
      "\n",
      "                                              description          director  \\\n",
      "354393  a survival game show on the web, abandons cont...  christopher fink   \n",
      "\n",
      "             director_id                                               star  \\\n",
      "354393  /name/nm0002714/  linda alcazar, \\nandre johnson, \\nbonnie mcbri...   \n",
      "\n",
      "                                                  star_id  votes  \n",
      "354393  /name/nm1785036/,/name/nm13299177/,/name/nm132...    NaN  \n"
     ]
    }
   ],
   "source": [
    "print(combined_df[combined_df['movie_name'] == 'none'])"
   ]
  },
  {
   "cell_type": "code",
   "execution_count": 23,
   "metadata": {},
   "outputs": [
    {
     "name": "stdout",
     "output_type": "stream",
     "text": [
      "          movie_id              movie_name year  runtime  \\\n",
      "811      tt5635026       peter pan & wendy  NaN      106   \n",
      "2983     tt1134795                   akira  NaN      102   \n",
      "3425    tt10559102               supercell  NaN      100   \n",
      "3444    tt21953246        born to be great  NaN       90   \n",
      "3939    tt21479078        under protection  NaN       80   \n",
      "...            ...                     ...  ...      ...   \n",
      "366631  tt11078996     the kazbat soldiers  NaN      120   \n",
      "366883   tt2622184             gitmo titmo  NaN      119   \n",
      "367673   tt3834494  operation jungle jewel  NaN       90   \n",
      "367839  tt21261370   las armas de don pepe  NaN       89   \n",
      "367969   tt8531072         namhin gotrohin  NaN       80   \n",
      "\n",
      "                             genre  rating  \\\n",
      "811      action, adventure, comedy     NaN   \n",
      "2983        action, drama, mystery     NaN   \n",
      "3425      action, adventure, drama     NaN   \n",
      "3444    action, adventure, fantasy     NaN   \n",
      "3939                action, comedy     NaN   \n",
      "...                            ...     ...   \n",
      "366631                  drama, war     NaN   \n",
      "366883                         war     NaN   \n",
      "367673                         war     NaN   \n",
      "367839                         war     NaN   \n",
      "367969                  drama, war     NaN   \n",
      "\n",
      "                                              description  \\\n",
      "811     live-action adaptation of j.m. barrie's classi...   \n",
      "2983    the leader of a biker gang tries to save his k...   \n",
      "3425    a teenage boy runs away to follow his fathers ...   \n",
      "3444    \"alexander the great's early life while still ...   \n",
      "3939    witnessing a traumatic event, 12 year old emil...   \n",
      "...                                                   ...   \n",
      "366631  this story is about human relationship and dra...   \n",
      "366883  female americans and some foreigners are inter...   \n",
      "367673  during the invasion of panama, a green beret l...   \n",
      "367839                                         add a plot   \n",
      "367969                                         add a plot   \n",
      "\n",
      "                         director       director_id  \\\n",
      "811                  david lowery  /name/nm1108007/   \n",
      "2983                taika waititi  /name/nm0169806/   \n",
      "3425    herbert james winterstern  /name/nm3580196/   \n",
      "3444                  jalal merhi  /name/nm0580725/   \n",
      "3939                     fred tee  /name/nm7052593/   \n",
      "...                           ...               ...   \n",
      "366631             askar uzabayev  /name/nm6202046/   \n",
      "366883   norman clark stewart jr.  /name/nm5459703/   \n",
      "367673                dan barrios  /name/nm3750790/   \n",
      "367839            pablo rojas que  /name/nm3210163/   \n",
      "367969                razib ahsan  /name/nm7760028/   \n",
      "\n",
      "                                                     star  \\\n",
      "811     alexander molony, \\never anderson, \\njoshua pi...   \n",
      "2983                                                  NaN   \n",
      "3425    alec baldwin, \\nskeet ulrich, \\nanne heche, \\n...   \n",
      "3444    sam heughan, \\nlauren cohan, \\nhala sedki, \\nj...   \n",
      "3939    normita joven, \\nkate sanchez, \\nannalise berg...   \n",
      "...                                                   ...   \n",
      "366631                                                NaN   \n",
      "366883                                                NaN   \n",
      "367673                                                NaN   \n",
      "367839                               armando miguel gómez   \n",
      "367969                                          ratan dev   \n",
      "\n",
      "                                                  star_id  votes  \n",
      "811     /name/nm9898029/,/name/nm8349839/,/name/nm1101...    NaN  \n",
      "2983                                                  NaN    NaN  \n",
      "3425    /name/nm0000285/,/name/nm0000240/,/name/nm0000...    NaN  \n",
      "3444    /name/nm1537825/,/name/nm1659348/,/name/nm1507...    NaN  \n",
      "3939    /name/nm2055646/,/name/nm12113294/,/name/nm118...    NaN  \n",
      "...                                                   ...    ...  \n",
      "366631                                                NaN    NaN  \n",
      "366883                                                NaN    NaN  \n",
      "367673                                                NaN    NaN  \n",
      "367839                                   /name/nm5404677/    NaN  \n",
      "367969                                   /name/nm7760029/    NaN  \n",
      "\n",
      "[2099 rows x 12 columns]\n"
     ]
    }
   ],
   "source": [
    "# Filter the DataFrame to show rows where 'movie_year' is missing\n",
    "missing_movie_year_rows = combined_df[combined_df['year'].isna()]\n",
    "\n",
    "# Display the rows with missing 'movie_year'\n",
    "print(missing_movie_year_rows)\n",
    "\n",
    "#Mostly movies that are in production, but not released yet. Will remove these from database"
   ]
  },
  {
   "cell_type": "code",
   "execution_count": 24,
   "metadata": {},
   "outputs": [],
   "source": [
    "#Removing movies with null year\n",
    "combined_df.dropna(subset=['year'], inplace=True)"
   ]
  },
  {
   "cell_type": "code",
   "execution_count": 25,
   "metadata": {},
   "outputs": [],
   "source": [
    "#Removing movies with null director\n",
    "combined_df.dropna(subset=['director_id'], inplace=True)"
   ]
  },
  {
   "cell_type": "code",
   "execution_count": 26,
   "metadata": {},
   "outputs": [],
   "source": [
    "#Removing movies with null star\n",
    "combined_df.dropna(subset=['star'], inplace=True)"
   ]
  },
  {
   "cell_type": "code",
   "execution_count": 27,
   "metadata": {},
   "outputs": [
    {
     "name": "stdout",
     "output_type": "stream",
     "text": [
      "movie_id        object\n",
      "movie_name      object\n",
      "year            object\n",
      "runtime          int64\n",
      "genre           object\n",
      "rating         float64\n",
      "description     object\n",
      "director        object\n",
      "director_id     object\n",
      "star            object\n",
      "star_id         object\n",
      "votes          float64\n",
      "dtype: object\n"
     ]
    }
   ],
   "source": [
    "print(combined_df.dtypes)"
   ]
  },
  {
   "cell_type": "code",
   "execution_count": 28,
   "metadata": {},
   "outputs": [
    {
     "name": "stdout",
     "output_type": "stream",
     "text": [
      "0\n"
     ]
    }
   ],
   "source": [
    "print(combined_df.duplicated().sum())"
   ]
  },
  {
   "cell_type": "code",
   "execution_count": 29,
   "metadata": {},
   "outputs": [
    {
     "name": "stdout",
     "output_type": "stream",
     "text": [
      "             runtime         rating         votes\n",
      "count  122222.000000  105976.000000  1.059770e+05\n",
      "mean      102.404117       5.856138  8.394942e+03\n",
      "std        21.082810       1.289952  5.422813e+04\n",
      "min        80.000000       1.000000  5.000000e+00\n",
      "25%        89.000000       5.100000  4.500000e+01\n",
      "50%        96.000000       6.000000  2.070000e+02\n",
      "75%       110.000000       6.700000  1.148000e+03\n",
      "max       300.000000      10.000000  2.675531e+06\n",
      "<class 'pandas.core.frame.DataFrame'>\n",
      "Index: 122222 entries, 0 to 368291\n",
      "Data columns (total 12 columns):\n",
      " #   Column       Non-Null Count   Dtype  \n",
      "---  ------       --------------   -----  \n",
      " 0   movie_id     122222 non-null  object \n",
      " 1   movie_name   122222 non-null  object \n",
      " 2   year         122222 non-null  object \n",
      " 3   runtime      122222 non-null  int64  \n",
      " 4   genre        122222 non-null  object \n",
      " 5   rating       105976 non-null  float64\n",
      " 6   description  122222 non-null  object \n",
      " 7   director     122222 non-null  object \n",
      " 8   director_id  122222 non-null  object \n",
      " 9   star         122222 non-null  object \n",
      " 10  star_id      122222 non-null  object \n",
      " 11  votes        105977 non-null  float64\n",
      "dtypes: float64(2), int64(1), object(9)\n",
      "memory usage: 12.1+ MB\n",
      "None\n"
     ]
    }
   ],
   "source": [
    "print(combined_df.describe())\n",
    "print(combined_df.info())"
   ]
  },
  {
   "cell_type": "code",
   "execution_count": 30,
   "metadata": {},
   "outputs": [],
   "source": [
    "#There are some entries with no data, such as rating, votes etc, which I don't think will cause issues \n",
    "# and can be worked around. Year column being a string rather than integer/time should also be fine since\n",
    "#I'm not planning on summing or doing calculations with year entries"
   ]
  },
  {
   "cell_type": "code",
   "execution_count": 31,
   "metadata": {},
   "outputs": [
    {
     "name": "stdout",
     "output_type": "stream",
     "text": [
      "The director with the most appearances is jesús franco with 99 movies.\n"
     ]
    }
   ],
   "source": [
    "# Count occurrences of each director\n",
    "director_counts = combined_df['director'].value_counts()\n",
    "\n",
    "# Display the director with the most appearances\n",
    "most_frequent_director = director_counts.idxmax()  # Get the director with the highest count\n",
    "most_frequent_director_count = director_counts.max()  # Get the highest count value\n",
    "\n",
    "print(f\"The director with the most appearances is {most_frequent_director} with {most_frequent_director_count} movies.\")"
   ]
  },
  {
   "cell_type": "code",
   "execution_count": 32,
   "metadata": {},
   "outputs": [
    {
     "name": "stdout",
     "output_type": "stream",
     "text": [
      "The star with the most appearances is omer pasha with 26 movies.\n"
     ]
    }
   ],
   "source": [
    "# Count occurrences of each star\n",
    "star_counts = combined_df['star'].value_counts()\n",
    "\n",
    "# Display the star with the most appearances\n",
    "most_frequent_star = star_counts.idxmax()  # Get the star with the highest count\n",
    "most_frequent_star_count = star_counts.max()  # Get the highest count value\n",
    "\n",
    "print(f\"The star with the most appearances is {most_frequent_star} with {most_frequent_star_count} movies.\")"
   ]
  },
  {
   "cell_type": "code",
   "execution_count": 33,
   "metadata": {},
   "outputs": [
    {
     "name": "stdout",
     "output_type": "stream",
     "text": [
      "Top 20 directors with the most movies:\n",
      "director\n",
      "jesús franco                 99\n",
      "godfrey ho                   97\n",
      "cheh chang                   72\n",
      "gilberto martínez solares    68\n",
      "alfredo b. crevenna          68\n",
      "rené cardona                 64\n",
      "jing wong                    63\n",
      "yuen chor                    60\n",
      "michael curtiz               59\n",
      "nejat saydam                 59\n",
      "atif yilmaz                  57\n",
      "takashi miike                57\n",
      "umberto lenzi                57\n",
      "orhan aksoy                  55\n",
      "osman f. seden               53\n",
      "ram gopal varma              52\n",
      "richard thorpe               52\n",
      "masahiro makino              52\n",
      "herman yau                   51\n",
      "teruo ishii                  51\n",
      "Name: count, dtype: int64\n"
     ]
    }
   ],
   "source": [
    "# Count occurrences of each director and get the top 20\n",
    "top_directors = combined_df['director'].value_counts().head(20)\n",
    "\n",
    "# Display the top 20 directors and their movie counts\n",
    "print(\"Top 20 directors with the most movies:\")\n",
    "print(top_directors)"
   ]
  },
  {
   "cell_type": "code",
   "execution_count": 34,
   "metadata": {},
   "outputs": [
    {
     "name": "stdout",
     "output_type": "stream",
     "text": [
      "Top 20 stars with the most movies:\n",
      "star\n",
      "omer pasha                                                                   26\n",
      "adam parsons                                                                 25\n",
      "nobuyo ôyama, \\nnoriko ohara, \\nmichiko nomura, \\nkaneta kimotsuki           20\n",
      "ove sprogøe, \\nmorten grunwald, \\npoul bundgaard, \\nkirsten walther          11\n",
      "renato aragão, \\ndedé santana, \\nmussum, \\nzacarias                          10\n",
      "arve opsahl, \\ncarsten byhring, \\nsverre holm, \\naud schønemann              10\n",
      "rick jay glen, \\nsiobhan lumsden, \\npaul 'maxx' rinehart, \\ntoni thompson     9\n",
      "jorge luis villacorta santamato                                               9\n",
      "wasabi mizuta, \\nmegumi ohara, \\nyumi kakazu, \\nsubaru kimura                 7\n",
      "erik grankvist                                                                6\n",
      "akiko yajima, \\nmiki narahashi, \\nkeiji fujiwara, \\nsatomi kôrogi             6\n",
      "jason barker, \\ng. larry butler, \\ndavid gerrold, \\ndonald f. glut            6\n",
      "juwel chowdhury, \\nricky riyaf                                                6\n",
      "william shatner, \\nleonard nimoy, \\ndeforest kelley, \\njames doohan           6\n",
      "binh chi lam, \\nchanh tin nguyen, \\nlan thanh, \\nhong thu                     5\n",
      "gösta ekman, \\nkjell bergqvist, \\nrolf lassgård, \\nniklas hjulström           5\n",
      "lewis stone, \\nmickey rooney, \\ncecilia parker, \\nfay holden                  5\n",
      "sebastian bezzel, \\nsimon schwarz, \\nlisa maria potthoff, \\nenzi fuchs        5\n",
      "melanie stone, \\nadam johnson, \\njake stormoen, \\nnicola posener              4\n",
      "paul 'maxx' rinehart, \\ntoni thompson, \\njustin j. wheeler                    4\n",
      "Name: count, dtype: int64\n"
     ]
    }
   ],
   "source": [
    "# Count occurrences of each star and get the top 20\n",
    "top_stars = combined_df['star'].value_counts().head(20)\n",
    "\n",
    "# Display the top 20 stars and their movie counts\n",
    "print(\"Top 20 stars with the most movies:\")\n",
    "print(top_stars)"
   ]
  },
  {
   "cell_type": "code",
   "execution_count": 76,
   "metadata": {},
   "outputs": [
    {
     "name": "stdout",
     "output_type": "stream",
     "text": [
      "         movie_id                 movie_name  year  runtime  \\\n",
      "897     tt0098193  the return of swamp thing  1989       88   \n",
      "2228    tt0092860            deathstalker ii  1987       85   \n",
      "2357    tt0089503            the lost empire  1984       83   \n",
      "4220    tt0092652            big bad mama ii  1987       83   \n",
      "7750    tt0385622              crash landing  2005       88   \n",
      "8603    tt0248742           crash point zero  2001       93   \n",
      "8977    tt0168785               final voyage  1999       95   \n",
      "9970    tt0217979                     ablaze  2001       97   \n",
      "10412   tt0189340            against the law  1997       90   \n",
      "10894   tt0181838            stealth fighter  1999       88   \n",
      "11186   tt0217654                    militia  2000       89   \n",
      "12643   tt0347439              lost treasure  2003       85   \n",
      "14411   tt0163529                the assault  1998       85   \n",
      "15067   tt1336103          lost in the woods  2009       84   \n",
      "15930   tt0164016             desert thunder  1999       90   \n",
      "55868   tt0346811    the curse of the komodo  2004       92   \n",
      "58481   tt5442626                nessie & me  2016       90   \n",
      "96595   tt0108142             sins of desire  1993       87   \n",
      "98959   tt0118079           victim of desire  1995       85   \n",
      "132138  tt0104938                    munchie  1992       80   \n",
      "133614  tt0107427       little miss millions  1993       90   \n",
      "133922  tt0110593       munchie strikes back  1994       94   \n",
      "134077  tt6315010        a doggone hollywood  2017       84   \n",
      "135105  tt5853124        a doggone christmas  2016       82   \n",
      "149716  tt0111244                  sorceress  1995       93   \n",
      "150611  tt0100811         transylvania twist  1989       90   \n",
      "177416  tt0095756          not of this earth  1988       81   \n",
      "179002  tt0099743    the haunting of morella  1990       82   \n",
      "179670  tt0101256                976-evil ii  1991       93   \n",
      "185128  tt1291582           vampire in vegas  2009       82   \n",
      "\n",
      "                             genre  rating  \\\n",
      "897      action, adventure, comedy     4.6   \n",
      "2228     action, adventure, comedy     5.1   \n",
      "2357     action, adventure, comedy     4.7   \n",
      "4220         action, comedy, crime     4.7   \n",
      "7750          action, crime, drama     3.7   \n",
      "8603      action, adventure, drama     3.4   \n",
      "8977       action, drama, thriller     3.7   \n",
      "9970       drama, action, thriller     3.4   \n",
      "10412      action, crime, thriller     4.3   \n",
      "10894      action, drama, thriller     3.4   \n",
      "11186            action, adventure     3.5   \n",
      "12643                       action     3.8   \n",
      "14411             action, thriller     4.0   \n",
      "15067       action, comedy, family     2.0   \n",
      "15930                action, drama     3.7   \n",
      "55868    adventure, horror, sci-fi     2.9   \n",
      "58481   adventure, family, fantasy     3.2   \n",
      "96595              crime, thriller     4.0   \n",
      "98959       crime, drama, thriller     3.8   \n",
      "132138     comedy, family, fantasy     3.6   \n",
      "133614              comedy, family     5.1   \n",
      "133922     comedy, family, fantasy     3.2   \n",
      "134077                      family     4.9   \n",
      "135105                      family     4.1   \n",
      "149716   fantasy, horror, thriller     4.1   \n",
      "150611     comedy, fantasy, horror     5.3   \n",
      "177416      comedy, horror, sci-fi     4.9   \n",
      "179002   horror, romance, thriller     4.4   \n",
      "179670                      horror     4.3   \n",
      "185128                      horror     2.7   \n",
      "\n",
      "                                              description      director  \\\n",
      "897     in this tongue-in-cheek sequel, the benevolent...  jim wynorski   \n",
      "2228    in this parody of the sword and sorcery films,...  jim wynorski   \n",
      "2357    seeking revenge, officer angel wolfe, her nati...  jim wynorski   \n",
      "4220    the evil local land baron forecloses on angie'...  jim wynorski   \n",
      "7750    when a hostage situation arises on a private p...  jim wynorski   \n",
      "8603    a scientist recovers a powerful weapon created...  jim wynorski   \n",
      "8977    this is the story of a modern day pirate mad m...  jim wynorski   \n",
      "9970    an oil refinery blows up, causing a firestorm ...  jim wynorski   \n",
      "10412   a trigger-happy outlaw goes on the run and a b...  jim wynorski   \n",
      "10894   ice-t stars as a naval pilot that fakes his ow...  jim wynorski   \n",
      "11186   an atf agent goes undercover to retrieve stole...  jim wynorski   \n",
      "12643   a cop finds a mysterious map from the age of e...  jim wynorski   \n",
      "14411   a female cop assigned to protect a dead drug d...  jim wynorski   \n",
      "15067   a smart and resourceful boy goes on vacation w...  jim wynorski   \n",
      "15930   terrorists threaten to launch a missile armed ...  jim wynorski   \n",
      "55868   genetically-engineered komodo dragons have bec...  jim wynorski   \n",
      "58481   a 10-year-old boy moves to a lakeside town and...  jim wynorski   \n",
      "96595   suspecting foul play, kay egan goes undercover...  jim wynorski   \n",
      "98959   an sec agent investigating $70m in missing fun...  jim wynorski   \n",
      "132138  in this in-name-only sequel to munchies (1987)...  jim wynorski   \n",
      "133614  private detective nick is hired to bring back ...  jim wynorski   \n",
      "133922  the magical munchie is back, and if he gets in...  jim wynorski   \n",
      "134077  murphy (\"just jesse the jack\") is a mega-famou...  jim wynorski   \n",
      "135105  when the cia discovers a cute orphan puppy wit...  jim wynorski   \n",
      "149716  jealous witch erica uses her powers to influen...  jim wynorski   \n",
      "150611  the nephew of a librarian must go collect a 20...  jim wynorski   \n",
      "177416  an alien arrives on earth looking to take huma...  jim wynorski   \n",
      "179002  loosely based on the short story by edgar alla...  jim wynorski   \n",
      "179670  a seemingly harmless telephone service endows ...  jim wynorski   \n",
      "185128  when a 300-year-old vampire hires a genetic sc...  jim wynorski   \n",
      "\n",
      "             director_id                                               star  \\\n",
      "897     /name/nm0691061/  dick durock, \\nheather locklear, \\nlouis jourd...   \n",
      "2228    /name/nm0691061/  john terlesky, \\nmonique gabrielle, \\njohn laz...   \n",
      "2357    /name/nm0691061/  melanie vincz, \\nraven de la croix, \\nangela a...   \n",
      "4220    /name/nm0691061/  angie dickinson, \\nrobert culp, \\ndanielle bri...   \n",
      "7750    /name/nm0691061/  antonio sabato jr., \\nmichael paré, \\nbrianne ...   \n",
      "8603    /name/nm0691061/  treat williams, \\nhannes jaenicke, \\ngary huds...   \n",
      "8977    /name/nm0691061/  dylan walsh, \\nice-t, \\nerika eleniak, \\nclaud...   \n",
      "9970    /name/nm0691061/  john bradley, \\ntom arnold, \\nice-t, \\namanda ...   \n",
      "10412   /name/nm0691061/  nancy allen, \\nrichard grieco, \\nnick mancuso,...   \n",
      "10894   /name/nm0691061/  ice-t, \\ncostas mandylor, \\nerika eleniak, \\ns...   \n",
      "11186   /name/nm0691061/  dean cain, \\njennifer beals, \\nfrederic forres...   \n",
      "12643   /name/nm0691061/  stephen baldwin, \\nnicollette sheridan, \\ncoby...   \n",
      "14411   /name/nm0691061/  stacie randall, \\nmatt mccoy, \\nmelissa brasse...   \n",
      "15067   /name/nm0691061/  michael madsen, \\nsean kyle, \\nhayley sanchez,...   \n",
      "15930   /name/nm0691061/  tim abell, \\ndaniel baldwin, \\nari barak, \\nme...   \n",
      "55868   /name/nm0691061/  tim abell, \\nmelissa brasselle, \\ngail thackra...   \n",
      "58481   /name/nm0691061/  michael paré, \\ntoni hudson, \\npaul wallace, \\...   \n",
      "96595   /name/nm0691061/  gail thackray, \\njohn henry richardson, \\ndeli...   \n",
      "98959   /name/nm0691061/  marc singer, \\nshannon tweed, \\njohnny william...   \n",
      "132138  /name/nm0691061/  loni anderson, \\nandrew stevens, \\njamie mcenn...   \n",
      "133614  /name/nm0691061/  howard hesseman, \\njennifer love hewitt, \\nani...   \n",
      "133922  /name/nm0691061/  lesley-anne down, \\nandrew stevens, \\ntrenton ...   \n",
      "134077  /name/nm0691061/  jesse the jack russell terrier, \\npaul logan, ...   \n",
      "135105  /name/nm0691061/  jaret sacrey, \\nzachary cirino, \\ndominique sw...   \n",
      "149716  /name/nm0691061/  linda blair, \\nedward albert, \\njulie strain, ...   \n",
      "150611  /name/nm0691061/  robert vaughn, \\nteri copley, \\nsteve altman, ...   \n",
      "177416  /name/nm0691061/  traci lords, \\narthur roberts, \\nlenny juliano...   \n",
      "179002  /name/nm0691061/  nicole eggert, \\ndavid mccallum, \\nchristopher...   \n",
      "179670  /name/nm0691061/  debbie james, \\nrené assa, \\npatrick o'bryan, ...   \n",
      "185128  /name/nm0691061/  tony todd, \\ndelia sheppard, \\nedward spivak, ...   \n",
      "\n",
      "                                                  star_id   votes  \n",
      "897     /name/nm0244270/,/name/nm0000181/,/name/nm0431...  5833.0  \n",
      "2228    /name/nm0855613/,/name/nm0001249/,/name/nm0493...  3090.0  \n",
      "2357    /name/nm0898866/,/name/nm0209189/,/name/nm0007...  1506.0  \n",
      "4220    /name/nm0001141/,/name/nm0191685/,/name/nm0109...   946.0  \n",
      "7750    /name/nm0004645/,/name/nm0001595/,/name/nm1732...   888.0  \n",
      "8603    /name/nm0001852/,/name/nm0415395/,/name/nm0399...   510.0  \n",
      "8977    /name/nm0909620/,/name/nm0001384/,/name/nm0000...   817.0  \n",
      "9970    /name/nm0103280/,/name/nm0000792/,/name/nm0001...   693.0  \n",
      "10412   /name/nm0000262/,/name/nm0001298/,/name/nm0541...   357.0  \n",
      "10894   /name/nm0001384/,/name/nm0541908/,/name/nm0000...  1019.0  \n",
      "11186   /name/nm0001002/,/name/nm0000884/,/name/nm0002...   814.0  \n",
      "12643   /name/nm0000286/,/name/nm0001733/,/name/nm0572...   595.0  \n",
      "14411   /name/nm0099928/,/name/nm0566783/,/name/nm0105...   207.0  \n",
      "15067   /name/nm0000514/,/name/nm3224187/,/name/nm1371...   528.0  \n",
      "15930   /name/nm0008543/,/name/nm0000838/,/name/nm0052...   418.0  \n",
      "55868   /name/nm0008543/,/name/nm0105465/,/name/nm0364...  1618.0  \n",
      "58481   /name/nm0001595/,/name/nm0399981/,/name/nm3070...   203.0  \n",
      "96595   /name/nm0364703/,/name/nm0724604/,/name/nm0791...   568.0  \n",
      "98959   /name/nm0001743/,/name/nm0000238/,/name/nm0930...   460.0  \n",
      "132138  /name/nm0000756/,/name/nm0002989/,/name/nm0568...   870.0  \n",
      "133614  /name/nm0381606/,/name/nm0001349/,/name/nm0606...   384.0  \n",
      "133922  /name/nm0001153/,/name/nm0002989/,/name/nm0461...   326.0  \n",
      "134077  /name/nm8260553/,/name/nm0517638/,/name/nm0001...    88.0  \n",
      "135105  /name/nm2075851/,/name/nm8266000/,/name/nm0000...   211.0  \n",
      "149716  /name/nm0000304/,/name/nm0001902/,/name/nm0001...  1164.0  \n",
      "150611  /name/nm0001816/,/name/nm0178746/,/name/nm0022...   625.0  \n",
      "177416  /name/nm0000183/,/name/nm0730838/,/name/nm0432...  2542.0  \n",
      "179002  /name/nm0001176/,/name/nm0564724/,/name/nm0357...   915.0  \n",
      "179670  /name/nm0416415/,/name/nm0039734/,/name/nm0639...  1758.0  \n",
      "185128  /name/nm0865302/,/name/nm0791934/,/name/nm1659...   377.0  \n"
     ]
    }
   ],
   "source": [
    "print(combined_df[combined_df['director'] == 'jim wynorski'])\n",
    "#neric roberts??? Maybe a fuzzy search will fix this?"
   ]
  },
  {
   "cell_type": "code",
   "execution_count": 37,
   "metadata": {},
   "outputs": [
    {
     "name": "stdout",
     "output_type": "stream",
     "text": [
      "Total star entries: 122222\n",
      "Entries starting with 'n': 3763\n",
      "Example entries starting with 'n':\n",
      "['nicolas cage, \\npedro pascal, \\ntiffany haddish, \\nsharon horgan'\n",
      " 'n.t. rama rao jr., \\nram charan teja, \\najay devgn, \\nalia bhatt'\n",
      " 'nicolas cage, \\ndean armstrong, \\nryan kiera armstrong, \\nnoah le gros'\n",
      " 'nicolas cage, \\ndiane kruger, \\njustin bartha, \\nsean bean'\n",
      " 'nicolas cage, \\njohn cusack, \\njohn malkovich, \\ncolm meaney'\n",
      " 'noah ringer, \\nnicola peltz beckham, \\njackson rathbone, \\ndev patel'\n",
      " 'naomi watts, \\njack black, \\nadrien brody, \\nthomas kretschmann'\n",
      " 'nanoka hara, \\nhokuto matsumura, \\neri fukatsu, \\nkôshirô matsumoto'\n",
      " 'nicolas cage, \\nchandler canterbury, \\nrose byrne, \\nlara robinson'\n",
      " 'noomi rapace, \\nglenn close, \\nwillem dafoe, \\nmarwan kenzari']\n"
     ]
    }
   ],
   "source": [
    "# Check if all star names start with 'n'\n",
    "starts_with_n = combined_df['star'].str.startswith('n')\n",
    "\n",
    "# Get the count of entries that start with 'n'\n",
    "n_prefix_count = starts_with_n.sum()\n",
    "\n",
    "# Get the total count of entries in the 'star' column\n",
    "total_star_count = combined_df['star'].notna().sum()\n",
    "\n",
    "# Print the results\n",
    "print(f\"Total star entries: {total_star_count}\")\n",
    "print(f\"Entries starting with 'n': {n_prefix_count}\")\n",
    "\n",
    "# Optional: Display some example entries that start with 'n'\n",
    "if n_prefix_count > 0:\n",
    "    example_entries = combined_df[starts_with_n]['star'].unique()\n",
    "    print(\"Example entries starting with 'n':\")\n",
    "    print(example_entries[:10])  # Show the first 10 examples"
   ]
  },
  {
   "cell_type": "code",
   "execution_count": 38,
   "metadata": {},
   "outputs": [],
   "source": [
    "# Initialize lists to store movie IDs\n",
    "good_movies = []\n",
    "bad_movies = []"
   ]
  },
  {
   "cell_type": "code",
   "execution_count": 39,
   "metadata": {},
   "outputs": [],
   "source": [
    "def add_movie():\n",
    "    movie_id_input = input(\"Enter the movie ID: \").strip()\n",
    "    \n",
    "    # Check if the movie_id exists in the DataFrame\n",
    "    if movie_id_input not in combined_df['movie_id'].values:\n",
    "        print(\"Movie ID not found.\")\n",
    "        return\n",
    "    \n",
    "    # Ask if the movie is good or bad\n",
    "    status = input(\"Is this movie 'good' or 'bad'? \").strip().lower()\n",
    "    \n",
    "    if status == 'good':\n",
    "        if movie_id_input in good_movies:\n",
    "            print(\"This movie is already marked as good.\")\n",
    "        else:\n",
    "            good_movies.append(movie_id_input)\n",
    "            print(f\"Movie with ID '{movie_id_input}' added to good movies.\")\n",
    "    elif status == 'bad':\n",
    "        if movie_id_input in bad_movies:\n",
    "            print(\"This movie is already marked as bad.\")\n",
    "        else:\n",
    "            bad_movies.append(movie_id_input)\n",
    "            print(f\"Movie with ID '{movie_id_input}' added to bad movies.\")\n",
    "    else:\n",
    "        print(\"Invalid status. Please enter 'good' or 'bad'.\")"
   ]
  },
  {
   "cell_type": "code",
   "execution_count": 40,
   "metadata": {},
   "outputs": [],
   "source": [
    "def recommend_movies():\n",
    "    recommendations = pd.DataFrame()\n",
    "    \n",
    "    # Get stars of good movies\n",
    "    good_stars = combined_df[combined_df['movie_id'].isin(good_movies)]['star'].str.split(', ', expand=True).stack().unique()\n",
    "    \n",
    "    # Filter movies by these stars\n",
    "    star_recommendations = combined_df[combined_df['star'].str.contains('|'.join(good_stars), case=False, na=False)]\n",
    "    \n",
    "    # Remove movies already marked as good or bad\n",
    "    recommendations = star_recommendations[~star_recommendations['movie_id'].isin(good_movies + bad_movies)]\n",
    "    \n",
    "    # Sort by rating and votes\n",
    "    recommendations = recommendations.sort_values(by=['rating', 'votes'], ascending=[False, False])\n",
    "    \n",
    "    # Show recommendations\n",
    "    print(\"\\nRecommended Movies based on Stars:\")\n",
    "    print(recommendations[['movie_name', 'year', 'movie_id']].head(10))\n"
   ]
  },
  {
   "cell_type": "code",
   "execution_count": 122,
   "metadata": {},
   "outputs": [
    {
     "name": "stdout",
     "output_type": "stream",
     "text": [
      "\n",
      "Recommended Movies based on Stars:\n",
      "                         movie_name  year   movie_id\n",
      "94835                  pulp fiction  1994  tt0110912\n",
      "230577                 forrest gump  1994  tt0109830\n",
      "86541                    goodfellas  1990  tt0099685\n",
      "120      terminator 2: judgment day  1991  tt0103064\n",
      "130775        it's a wonderful life  1946  tt0038650\n",
      "365383        the heart of no place  2009  tt1382250\n",
      "52503            back to the future  1985  tt0088763\n",
      "211807                  rear window  1954  tt0047396\n",
      "211801                      vertigo  1958  tt0052357\n",
      "94904   once upon a time in america  1984  tt0087843\n"
     ]
    }
   ],
   "source": [
    "# usage\n",
    "#add_movie()  # Run this to receive prompt to enter movie ID, then add a movie as good or bad \n",
    "recommend_movies()  # Run this to get recommendations"
   ]
  },
  {
   "cell_type": "code",
   "execution_count": 121,
   "metadata": {},
   "outputs": [
    {
     "name": "stdout",
     "output_type": "stream",
     "text": [
      "         movie_id                     movie_name\n",
      "171     tt0093870                        robocop\n",
      "223     tt0095016                       die hard\n",
      "268     tt0100802                   total recall\n",
      "448     tt0096256                      they live\n",
      "1745    tt0083739                  class of 1984\n",
      "2824    tt0102004                   the hard way\n",
      "4209    tt0072886  doc savage: the man of bronze\n",
      "52523   tt0093779             the princess bride\n",
      "54055   tt0059183      the flight of the phoenix\n",
      "94944   tt0104952                my cousin vinny\n",
      "94994   tt0090756                    blue velvet\n",
      "131505  tt0039628         miracle on 34th street\n",
      "148450  tt0112896    dracula: dead and loving it\n",
      "299867  tt0787475                        hot rod\n"
     ]
    }
   ],
   "source": [
    "print(combined_df.loc[combined_df['movie_id'].isin(good_movies), ['movie_id', 'movie_name']])"
   ]
  },
  {
   "cell_type": "code",
   "execution_count": 117,
   "metadata": {},
   "outputs": [
    {
     "name": "stdout",
     "output_type": "stream",
     "text": [
      "       movie_id     movie_name  year  runtime                 genre  rating  \\\n",
      "1745  tt0083739  class of 1984  1982       98  action, crime, drama     6.5   \n",
      "\n",
      "                                            description        director  \\\n",
      "1745  a new teacher at a troubled inner-city high sc...  mark l. lester   \n",
      "\n",
      "           director_id                                               star  \\\n",
      "1745  /name/nm0504495/  perry king, \\nmerrie lynn ross, \\ntimothy van ...   \n",
      "\n",
      "                                                star_id    votes  \n",
      "1745  /name/nm0455133/,/name/nm0743679/,/name/nm0887...  12344.0  \n"
     ]
    }
   ],
   "source": [
    "print(combined_df[combined_df['movie_name'] == 'class of 1984'])"
   ]
  },
  {
   "cell_type": "code",
   "execution_count": 104,
   "metadata": {},
   "outputs": [
    {
     "name": "stdout",
     "output_type": "stream",
     "text": [
      "Empty DataFrame\n",
      "Columns: [movie_id, movie_name, year, runtime, genre, rating, description, director, director_id, star, star_id, votes]\n",
      "Index: []\n"
     ]
    }
   ],
   "source": [
    "print(combined_df[combined_df['director'] == 'rene laloux'])"
   ]
  },
  {
   "cell_type": "code",
   "execution_count": null,
   "metadata": {},
   "outputs": [],
   "source": [
    "#observations, some movies missing from DF after cleaning e.g. Hard to Die, Office Space, This Spinal Tap\n",
    "#Recommended a movie about Yoko Ono for some reason???"
   ]
  }
 ],
 "metadata": {
  "kernelspec": {
   "display_name": "pipeline",
   "language": "python",
   "name": "python3"
  },
  "language_info": {
   "codemirror_mode": {
    "name": "ipython",
    "version": 3
   },
   "file_extension": ".py",
   "mimetype": "text/x-python",
   "name": "python",
   "nbconvert_exporter": "python",
   "pygments_lexer": "ipython3",
   "version": "3.12.0"
  }
 },
 "nbformat": 4,
 "nbformat_minor": 2
}
